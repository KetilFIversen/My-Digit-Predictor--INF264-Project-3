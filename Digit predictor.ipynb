{
 "cells": [
  {
   "cell_type": "markdown",
   "metadata": {},
   "source": [
    "# Importing libraries"
   ]
  },
  {
   "cell_type": "code",
   "execution_count": 1,
   "metadata": {},
   "outputs": [],
   "source": [
    "from sklearn import tree, metrics\n",
    "from sklearn.neighbors import KNeighborsClassifier\n",
    "from sklearn.linear_model import SGDClassifier \n",
    "from sklearn.svm import SVC\n",
    "from sklearn.ensemble import RandomForestClassifier\n",
    "from sklearn.neural_network import MLPClassifier\n",
    "from sklearn.model_selection import train_test_split\n",
    "from sklearn.model_selection import GridSearchCV\n",
    "from sklearn.feature_selection import SelectFromModel\n",
    "from sklearn.feature_selection import chi2, SelectPercentile\n",
    "from sklearn.feature_selection import VarianceThreshold\n",
    "\n",
    "import numpy as np\n",
    "import matplotlib.pyplot as plt\n",
    "import pandas as pd\n",
    "\n",
    "from timeit import default_timer as timer\n",
    "from datetime import timedelta"
   ]
  },
  {
   "cell_type": "markdown",
   "metadata": {},
   "source": [
    "# 0.1 Helper functions"
   ]
  },
  {
   "cell_type": "code",
   "execution_count": 2,
   "metadata": {},
   "outputs": [],
   "source": [
    "def normalizer(X):\n",
    "    # Input: X feature matrix\n",
    "    # Output: Normalized X feature matrix\n",
    "    \n",
    "    # We know the maximum value a feature can have is 255.\n",
    "    maxval = 255\n",
    "    \n",
    "    # Divide all the entries by this maximum value to get a number between 0 and 1\n",
    "    X = X/maxval\n",
    "    \n",
    "    return X"
   ]
  },
  {
   "cell_type": "code",
   "execution_count": 3,
   "metadata": {},
   "outputs": [],
   "source": [
    "def data_splitter(X,y):\n",
    "    # Input: X feature matrix, y target matrix\n",
    "    # Ouput: Training, testing and validation data\n",
    "    \n",
    "    # I define a function which can split our dataset into training-, validation- and testdata.\n",
    "    # It does NOT shuffle the data before splitting.                 \n",
    "    \n",
    "    # Shuffle and split the data into train and a concatenation of validation and test sets\n",
    "    X_train, X_val_test, y_train, y_val_test = train_test_split(X, y, test_size=0.3, shuffle=True, random_state=0)\n",
    "    \n",
    "    # Shuffle and split the data into validation and test sets\n",
    "    X_val, X_test, y_val, y_test = train_test_split(X_val_test, y_val_test, test_size=0.5, shuffle=True, random_state=1)                                                                   \n",
    "\n",
    "    return X_train, X_val, X_test, y_train, y_val, y_test"
   ]
  },
  {
   "cell_type": "markdown",
   "metadata": {},
   "source": [
    "# 1.1 Data"
   ]
  },
  {
   "cell_type": "markdown",
   "metadata": {},
   "source": [
    "# 1.1.1 Preprocessing data"
   ]
  },
  {
   "cell_type": "code",
   "execution_count": 4,
   "metadata": {},
   "outputs": [
    {
     "name": "stdout",
     "output_type": "stream",
     "text": [
      "Number of samples:  70000\n",
      "Number of features:  784\n",
      "Number of labels:  70000\n"
     ]
    }
   ],
   "source": [
    "# Load the dataset as a pandas dataframe\n",
    "dataset_imgs = pd.read_csv('handwritten_digits_images.csv', header=None)\n",
    "dataset_labels = pd.read_csv('handwritten_digits_labels.csv', header=None)\n",
    "\n",
    "# Extract features to a pandas dataframe X then convert to a numpy array\n",
    "X = dataset_imgs.to_numpy()\n",
    "\n",
    "# Extract labels to a pandas dataframe y then convert to a numpy array\n",
    "y = dataset_labels.to_numpy()\n",
    "\n",
    "# Normalize the features to values ranging from 0 to 1\n",
    "X = normalizer(X)\n",
    "\n",
    "print('Number of samples: ', X.shape[0])\n",
    "print('Number of features: ', X.shape[-1])\n",
    "print('Number of labels: ', y.shape[0])"
   ]
  },
  {
   "cell_type": "code",
   "execution_count": 5,
   "metadata": {},
   "outputs": [
    {
     "data": {
      "text/plain": [
       "<matplotlib.image.AxesImage at 0x1982eda7ca0>"
      ]
     },
     "execution_count": 5,
     "metadata": {},
     "output_type": "execute_result"
    },
    {
     "data": {
      "image/png": "[encoded data removed]",
      "text/plain": [
       "<Figure size 432x288 with 1 Axes>"
      ]
     },
     "metadata": {
      "needs_background": "light"
     },
     "output_type": "display_data"
    }
   ],
   "source": [
    "plt.imshow(X[0].reshape(28,28), cmap='Greys')"
   ]
  },
  {
   "cell_type": "code",
   "execution_count": 6,
   "metadata": {},
   "outputs": [
    {
     "name": "stdout",
     "output_type": "stream",
     "text": [
      "[0]\n"
     ]
    }
   ],
   "source": [
    "print(y[0])"
   ]
  },
  {
   "cell_type": "code",
   "execution_count": 7,
   "metadata": {},
   "outputs": [],
   "source": [
    "X_train, X_val, X_test, y_train, y_val, y_test = data_splitter(X,y) "
   ]
  },
  {
   "cell_type": "code",
   "execution_count": 8,
   "metadata": {},
   "outputs": [
    {
     "name": "stdout",
     "output_type": "stream",
     "text": [
      "Shape of training data:    (49000, 784)\n",
      "Shape of validation data:  (10500, 784)\n",
      "Shape of testing data:     (10500, 784)\n"
     ]
    }
   ],
   "source": [
    "print('Shape of training data:   ', X_train.shape)\n",
    "print('Shape of validation data: ', X_val.shape)\n",
    "print('Shape of testing data:    ', X_test.shape)"
   ]
  },
  {
   "cell_type": "markdown",
   "metadata": {},
   "source": [
    "# 1.1.2 Feature selection"
   ]
  },
  {
   "cell_type": "code",
   "execution_count": 9,
   "metadata": {},
   "outputs": [],
   "source": [
    "# Define our first feature seletor as a VarianceThreshold feature selector\n",
    "# Then fit it using the training data at the same time transforming the training data.\n",
    "# Then use the fitted selector to remove features from the validation and test data\n",
    "feature_selector_1 = VarianceThreshold(threshold=0)\n",
    "X_new_train = feature_selector_1.fit_transform(X_train)\n",
    "X_new_val = feature_selector_1.transform(X_val)\n",
    "X_new_test = feature_selector_1.transform(X_test)\n",
    "\n",
    "# Define our first feature seletor as a SelectPercentile feature selector\n",
    "# Then fit it using the training data and training labels at the same time transforming the training data.\n",
    "# Then use the fitted selector to remove features from the modified validation and test data\n",
    "feature_selector_2 = SelectPercentile(chi2, percentile=50)\n",
    "X_new_train = feature_selector_2.fit_transform(X_new_train, y_train)\n",
    "X_new_val = feature_selector_2.transform(X_new_val)\n",
    "X_new_test = feature_selector_2.transform(X_new_test)"
   ]
  },
  {
   "cell_type": "code",
   "execution_count": 10,
   "metadata": {},
   "outputs": [
    {
     "name": "stdout",
     "output_type": "stream",
     "text": [
      "Shape of training data after feature selection:    (49000, 355)\n",
      "Shape of validation data after feature selection:  (10500, 355)\n",
      "Shape of test data after feature selection:        (10500, 355)\n"
     ]
    }
   ],
   "source": [
    "print('Shape of training data after feature selection:   ', X_new_train.shape)\n",
    "print('Shape of validation data after feature selection: ', X_new_val.shape)\n",
    "print('Shape of test data after feature selection:       ', X_new_test.shape)"
   ]
  },
  {
   "cell_type": "code",
   "execution_count": 11,
   "metadata": {},
   "outputs": [],
   "source": [
    "def transform_features(X, fs_1, fs_2):\n",
    "    # Input: Feature matrix, and two feature selectors\n",
    "    # Ouput: Feature matrix with only selected features remaining\n",
    "    \n",
    "    # Remove certain features using the first feature selector\n",
    "    modified_X = fs_1.transform(X)\n",
    "    \n",
    "    # Then remove other features using the second feature selector\n",
    "    modified_X = fs_2.transform(modified_X)\n",
    "    \n",
    "    return modified_X"
   ]
  },
  {
   "cell_type": "markdown",
   "metadata": {},
   "source": [
    "# 1.2 Code"
   ]
  },
  {
   "cell_type": "markdown",
   "metadata": {},
   "source": [
    "# 1.2.1 Model selector function"
   ]
  },
  {
   "cell_type": "code",
   "execution_count": 12,
   "metadata": {},
   "outputs": [],
   "source": [
    "def model_selector(model, parameters, X, y, verbose=2, n_jobs=-1):\n",
    "    # Inputs: A candidate model, its different parameters, training data\n",
    "    # Outputs: The best model, its parameters, its score during training, the elapsed time of training\n",
    "    \n",
    "    # Create a GridSearch model selector with given estimator and parameter grid\n",
    "    selector = GridSearchCV(estimator=model, param_grid=parameters, verbose=verbose, n_jobs=n_jobs)\n",
    "    \n",
    "    # Start timer, fit the selector to data. End timer when complete\n",
    "    start = timer()\n",
    "    selector.fit(X, y.ravel())\n",
    "    end = timer()\n",
    "    \n",
    "    # The elapsed time in hours:minutes:seconds:milliseconds\n",
    "    elapsed_time = timedelta(seconds=end-start)\n",
    "    \n",
    "    # Extract the best training score, the best parameters and the best model for this type of estimator\n",
    "    best_score = selector.best_score_\n",
    "    best_params = selector.best_params_\n",
    "    best_model = selector.best_estimator_\n",
    "    \n",
    "    return best_model, best_params, best_score, elapsed_time"
   ]
  },
  {
   "cell_type": "markdown",
   "metadata": {},
   "source": [
    "# 1.2.2 Full model selector"
   ]
  },
  {
   "cell_type": "code",
   "execution_count": 13,
   "metadata": {},
   "outputs": [
    {
     "name": "stdout",
     "output_type": "stream",
     "text": [
      "Fitting 5 folds for each of 27 candidates, totalling 135 fits\n"
     ]
    },
    {
     "name": "stderr",
     "output_type": "stream",
     "text": [
      "[Parallel(n_jobs=-1)]: Using backend LokyBackend with 8 concurrent workers.\n",
      "[Parallel(n_jobs=-1)]: Done  16 tasks      | elapsed:  1.4min\n",
      "[Parallel(n_jobs=-1)]: Done 112 tasks      | elapsed: 12.0min\n",
      "[Parallel(n_jobs=-1)]: Done 135 out of 135 | elapsed: 13.1min finished\n"
     ]
    },
    {
     "name": "stdout",
     "output_type": "stream",
     "text": [
      "Fitting 5 folds for each of 12 candidates, totalling 60 fits\n"
     ]
    },
    {
     "name": "stderr",
     "output_type": "stream",
     "text": [
      "[Parallel(n_jobs=-1)]: Using backend LokyBackend with 8 concurrent workers.\n",
      "[Parallel(n_jobs=-1)]: Done  16 tasks      | elapsed: 55.1min\n",
      "[Parallel(n_jobs=-1)]: Done  60 out of  60 | elapsed: 111.5min finished\n"
     ]
    },
    {
     "name": "stdout",
     "output_type": "stream",
     "text": [
      "Fitting 5 folds for each of 24 candidates, totalling 120 fits\n"
     ]
    },
    {
     "name": "stderr",
     "output_type": "stream",
     "text": [
      "[Parallel(n_jobs=-1)]: Using backend LokyBackend with 8 concurrent workers.\n",
      "[Parallel(n_jobs=-1)]: Done  16 tasks      | elapsed:  2.8min\n",
      "[Parallel(n_jobs=-1)]: Done 120 out of 120 | elapsed: 20.0min finished\n"
     ]
    },
    {
     "name": "stdout",
     "output_type": "stream",
     "text": [
      "Fitting 5 folds for each of 12 candidates, totalling 60 fits\n"
     ]
    },
    {
     "name": "stderr",
     "output_type": "stream",
     "text": [
      "[Parallel(n_jobs=-1)]: Using backend LokyBackend with 8 concurrent workers.\n",
      "[Parallel(n_jobs=-1)]: Done  16 tasks      | elapsed: 10.7min\n",
      "[Parallel(n_jobs=-1)]: Done  60 out of  60 | elapsed: 53.4min finished\n"
     ]
    }
   ],
   "source": [
    "# Create a list of candidate models\n",
    "model_list = [SGDClassifier(random_state=0), SVC(random_state=0), \n",
    "              RandomForestClassifier(random_state=0), MLPClassifier(random_state=0)]\n",
    "\n",
    "# Create a list of model names\n",
    "model_names = ['Stochastic Gradient Descent Classifier', 'Support Vector Classifier', 'Random Forest Classifier'\n",
    "              , 'Multi-Layer Perceptron Classifier']\n",
    "\n",
    "# Create dictionaries of hyperparameters to vary for the respective candidate models\n",
    "SGD_parameters = {'loss':['hinge', 'log', 'modified_huber'], 'penalty':['l2', 'l1', 'elasticnet'], 'alpha':[0.0001, 0.01, 0.1]}\n",
    "SVC_parameters = {'kernel':['linear', 'poly', 'rbf'], 'C':[0.01, 0.1, 1, 10]}\n",
    "RNDF_parameters= {'n_estimators':[100, 200, 300], 'criterion':['gini', 'entropy'], 'max_depth':[None, 5, 10, 25]}\n",
    "MLP_parameters = {'hidden_layer_sizes':[(128,128), (128,128,128), (256,256), (256,256,256)], 'alpha':[0.0001, 0.01, 0.1]}\n",
    "\n",
    "# Create a list of respective hyperparameter dictionaries\n",
    "parameter_list = [SGD_parameters, SVC_parameters, RNDF_parameters, MLP_parameters]\n",
    "\n",
    "# Initialize variables\n",
    "best_model_list = []\n",
    "best_params_list = []\n",
    "best_score_list = []\n",
    "elapsed_time_list = []\n",
    "\n",
    "# Start timer\n",
    "start = timer()\n",
    "\n",
    "# For each model in the model list, vary the hyperparameters and select the best model based on the score on the kFold\n",
    "# training data. Then evaluate the best model on the validation data. \n",
    "for i in range(len(model_list)):\n",
    "    \n",
    "    # Aquire the best model and its hyperparameters for each candidate model\n",
    "    best_model, best_params, best_score, elapsed_time = model_selector(model_list[i], parameter_list[i], X_new_train, y_train, \n",
    "                                                                       verbose=3, n_jobs=-1)\n",
    "    # Append the information to the lists\n",
    "    best_model_list.append(best_model)\n",
    "    best_params_list.append(best_params)\n",
    "    best_score_list.append(best_score)\n",
    "    elapsed_time_list.append(elapsed_time)\n",
    "\n",
    "# End timer\n",
    "end = timer()\n",
    "\n",
    "# Save the total elapsed time for model selection\n",
    "total_elapsed_time = timedelta(seconds=end-start)"
   ]
  },
  {
   "cell_type": "markdown",
   "metadata": {},
   "source": [
    "# 1.2.3 Performance of candidate models & the final selected model"
   ]
  },
  {
   "cell_type": "code",
   "execution_count": 14,
   "metadata": {
    "scrolled": false
   },
   "outputs": [
    {
     "name": "stdout",
     "output_type": "stream",
     "text": [
      "The total time spend doing model selection was:  3:24:02.099158\n",
      "The model selection time for the  Stochastic Gradient Descent Classifier  was:  0:13:21.166263\n",
      "The best  Stochastic Gradient Descent Classifier  scored:  0.9048979591836733  on the kFold training data.\n",
      "The best parameters were:  {'alpha': 0.0001, 'loss': 'log', 'penalty': 'elasticnet'}\n",
      "The validation score of the best  Stochastic Gradient Descent Classifier  is:  0.9072380952380953\n"
     ]
    },
    {
     "data": {
      "image/png": "[encoded data removed]",
      "text/plain": [
       "<Figure size 432x288 with 2 Axes>"
      ]
     },
     "metadata": {
      "needs_background": "light"
     },
     "output_type": "display_data"
    },
    {
     "name": "stdout",
     "output_type": "stream",
     "text": [
      "The model selection time for the  Support Vector Classifier  was:  1:53:21.981255\n",
      "The best  Support Vector Classifier  scored:  0.9811020408163265  on the kFold training data.\n",
      "The best parameters were:  {'C': 10, 'kernel': 'rbf'}\n",
      "The validation score of the best  Support Vector Classifier  is:  0.9815238095238096\n"
     ]
    },
    {
     "data": {
      "image/png": "[encoded data removed]",
      "text/plain": [
       "<Figure size 432x288 with 2 Axes>"
      ]
     },
     "metadata": {
      "needs_background": "light"
     },
     "output_type": "display_data"
    },
    {
     "name": "stdout",
     "output_type": "stream",
     "text": [
      "The model selection time for the  Random Forest Classifier  was:  0:21:17.163235\n",
      "The best  Random Forest Classifier  scored:  0.964938775510204  on the kFold training data.\n",
      "The best parameters were:  {'criterion': 'gini', 'max_depth': 25, 'n_estimators': 300}\n",
      "The validation score of the best  Random Forest Classifier  is:  0.9681904761904762\n"
     ]
    },
    {
     "data": {
      "image/png": "[encoded data removed]",
      "text/plain": [
       "<Figure size 432x288 with 2 Axes>"
      ]
     },
     "metadata": {
      "needs_background": "light"
     },
     "output_type": "display_data"
    },
    {
     "name": "stdout",
     "output_type": "stream",
     "text": [
      "The model selection time for the  Multi-Layer Perceptron Classifier  was:  0:56:01.787849\n",
      "The best  Multi-Layer Perceptron Classifier  scored:  0.9780612244897959  on the kFold training data.\n",
      "The best parameters were:  {'alpha': 0.01, 'hidden_layer_sizes': (256, 256)}\n",
      "The validation score of the best  Multi-Layer Perceptron Classifier  is:  0.9788571428571429\n"
     ]
    },
    {
     "data": {
      "image/png": "[encoded data removed]",
      "text/plain": [
       "<Figure size 432x288 with 2 Axes>"
      ]
     },
     "metadata": {
      "needs_background": "light"
     },
     "output_type": "display_data"
    }
   ],
   "source": [
    "# Initialize the best validation score\n",
    "best_val_score = 0\n",
    "\n",
    "print('The total time spend doing model selection was: ', total_elapsed_time)\n",
    "\n",
    "# For each of the best models, compute the validation score. Print model name, elapsed time, the optimal parameters and\n",
    "# the models score on validation data. Then plot the confusion matrix for the validation data with the model. \n",
    "# Then score whatever model achieved the highest validation score as the selected_model\n",
    "for i in range(len(best_model_list)):\n",
    "    \n",
    "    val_score = best_model_list[i].score(X_new_val, y_val.ravel())\n",
    "\n",
    "    print('The model selection time for the ', model_names[i], ' was: ', elapsed_time_list[i])\n",
    "    print('The best ', model_names[i], ' scored: ', best_score_list[i], ' on the kFold training data.')\n",
    "    print('The best parameters were: ', best_params_list[i])\n",
    "    print('The validation score of the best ', model_names[i], ' is: ', val_score)\n",
    "    \n",
    "    # Plot the confusion matrix for the current model on the validation data\n",
    "    disp = metrics.plot_confusion_matrix(best_model_list[i], X_new_val, y_val)\n",
    "    disp.figure_.suptitle('Confusion Matrix for ' + str(model_names[i]))\n",
    "    \n",
    "    plt.show()\n",
    "    \n",
    "    # Find the best model by comparing current validation score to the previous best\n",
    "    if val_score > best_val_score:\n",
    "\n",
    "        selected_model = best_model_list[i]\n",
    "        selected_model_params = best_params_list[i]\n",
    "        selected_score = val_score\n",
    "        selected_time = elapsed_time_list[i]\n",
    "        selected_model_name = model_names[i]\n",
    "        best_val_score = val_score\n"
   ]
  },
  {
   "cell_type": "markdown",
   "metadata": {},
   "source": [
    "We have that the selected model is,"
   ]
  },
  {
   "cell_type": "code",
   "execution_count": 15,
   "metadata": {},
   "outputs": [
    {
     "name": "stdout",
     "output_type": "stream",
     "text": [
      "The selected model is:  Support Vector Classifier\n",
      "The parameters of the selected model are:  {'C': 10, 'kernel': 'rbf'}\n"
     ]
    }
   ],
   "source": [
    "print('The selected model is: ', selected_model_name)\n",
    "print('The parameters of the selected model are: ', selected_model_params)"
   ]
  },
  {
   "cell_type": "markdown",
   "metadata": {},
   "source": [
    "# 1.2.4 Selected model accuracy on unseen data"
   ]
  },
  {
   "cell_type": "code",
   "execution_count": 16,
   "metadata": {},
   "outputs": [
    {
     "name": "stdout",
     "output_type": "stream",
     "text": [
      "The final selected model is:  Support Vector Classifier\n",
      "With the hyperparameters:  {'C': 10, 'kernel': 'rbf'}\n",
      "This model had the score of:  0.9815238095238096  on the validation data\n",
      "This model has a score of:  0.9833333333333333  on unseen test data\n"
     ]
    }
   ],
   "source": [
    "# Get predicted performance of selected model on unseen data\n",
    "test_score = selected_model.score(X_new_test, y_test.ravel())\n",
    "\n",
    "# Print the results\n",
    "print('The final selected model is: ', selected_model_name)\n",
    "print('With the hyperparameters: ', selected_model_params)\n",
    "print('This model had the score of: ', selected_score, ' on the validation data')\n",
    "print('This model has a score of: ', test_score, ' on unseen test data')"
   ]
  },
  {
   "cell_type": "markdown",
   "metadata": {},
   "source": [
    "# 1.2.5 Predict and plot"
   ]
  },
  {
   "cell_type": "code",
   "execution_count": 59,
   "metadata": {},
   "outputs": [],
   "source": [
    "def predict_plot(model, data_row, normalize=False):\n",
    "    # Input: A model, a data sample (image), and wether or not to normalize the data.\n",
    "    # Output: Label for the image, the models prediction of the label, a plot of the image\n",
    "    # Used to predict unseen data we dont have the label to.\n",
    "    \n",
    "    # If we need the data to be normalized first, set normalize to True. If the data is already normalized,\n",
    "    # set normalize to False.\n",
    "    if normalize == True:\n",
    "        data_row = normalizer(data_row)\n",
    "    \n",
    "    # Do feature selection on raw data. Then make prediction.\n",
    "    data_row_mod = transform_features(data_row.reshape(1, -1), feature_selector_1, feature_selector_2)\n",
    "    prediction = model.predict(data_row_mod)\n",
    "             \n",
    "    print('The estimator has predicted the number: ', prediction)\n",
    "        \n",
    "    print('The actual number looks like,')\n",
    "    plt.imshow(data_row.reshape(28,28), cmap='Greys')"
   ]
  },
  {
   "cell_type": "code",
   "execution_count": 60,
   "metadata": {
    "scrolled": true
   },
   "outputs": [
    {
     "name": "stdout",
     "output_type": "stream",
     "text": [
      "The estimator has predicted the number:  [7]\n",
      "The actual number looks like,\n"
     ]
    },
    {
     "data": {
      "image/png": "[encoded data removed]",
      "text/plain": [
       "<Figure size 432x288 with 1 Axes>"
      ]
     },
     "metadata": {
      "needs_background": "light"
     },
     "output_type": "display_data"
    }
   ],
   "source": [
    "predict_plot(selected_model, X_test[0])"
   ]
  },
  {
   "cell_type": "markdown",
   "metadata": {},
   "source": [
    "# 1.2.6 Implementation"
   ]
  },
  {
   "cell_type": "code",
   "execution_count": 61,
   "metadata": {},
   "outputs": [],
   "source": [
    "# Load the data again as toydata\n",
    "toydata_imgs = pd.read_csv('handwritten_digits_images.csv', header=None)\n",
    "X_toy = toydata_imgs.to_numpy()"
   ]
  },
  {
   "cell_type": "code",
   "execution_count": 62,
   "metadata": {},
   "outputs": [
    {
     "name": "stdout",
     "output_type": "stream",
     "text": [
      "The estimator has predicted the number:  [9]\n",
      "The actual number looks like,\n"
     ]
    },
    {
     "data": {
      "image/png": "[encoded data removed]",
      "text/plain": [
       "<Figure size 432x288 with 1 Axes>"
      ]
     },
     "metadata": {
      "needs_background": "light"
     },
     "output_type": "display_data"
    }
   ],
   "source": [
    "# Predict and plot any of the samples in the toydata\n",
    "\n",
    "sample_idx =  63456\n",
    "\n",
    "predict_plot(selected_model, X_toy[sample_idx], normalize=True)"
   ]
  },
  {
   "cell_type": "code",
   "execution_count": null,
   "metadata": {},
   "outputs": [],
   "source": []
  }
 ],
 "metadata": {
  "kernelspec": {
   "display_name": "Python 3",
   "language": "python",
   "name": "python3"
  },
  "language_info": {
   "codemirror_mode": {
    "name": "ipython",
    "version": 3
   },
   "file_extension": ".py",
   "mimetype": "text/x-python",
   "name": "python",
   "nbconvert_exporter": "python",
   "pygments_lexer": "ipython3",
   "version": "3.8.5"
  }
 },
 "nbformat": 4,
 "nbformat_minor": 4
}
